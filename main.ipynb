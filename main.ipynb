{
 "cells": [
  {
   "cell_type": "code",
   "execution_count": null,
   "metadata": {},
   "outputs": [],
   "source": [
    "%load_ext autoreload\n",
    "%autoreload 2"
   ]
  },
  {
   "cell_type": "code",
   "execution_count": null,
   "metadata": {},
   "outputs": [],
   "source": [
    "import numpy as np\n",
    "import pdb\n",
    "import torch\n",
    "from torch.optim import Adam\n",
    "import gym\n",
    "import time\n",
    "import wandb\n",
    "from spinup import models\n",
    "core = models"
   ]
  },
  {
   "cell_type": "code",
   "execution_count": null,
   "metadata": {},
   "outputs": [],
   "source": [
    "from spinup.utils.mpi_pytorch import setup_pytorch_for_mpi, sync_params, mpi_avg_grads\n",
    "from spinup.utils.mpi_tools import mpi_fork, mpi_avg, proc_id, mpi_statistics_scalar, num_procs\n",
    "from spinup.algos.ppo.ppo import ppo"
   ]
  },
  {
   "cell_type": "code",
   "execution_count": 42,
   "metadata": {},
   "outputs": [],
   "source": [
    "class Config(object):\n",
    "    def __init__(self):\n",
    "        return None\n",
    "    \n",
    "class Logger(object):\n",
    "    \"\"\"\n",
    "    uses kwargs instead of dict for convenience\n",
    "    all None valued keys are counters\n",
    "    \"\"\"\n",
    "    def __init__(self, logger):\n",
    "        self.logger = logger\n",
    "        self.counters = {'epoch':0}\n",
    "        self.frequency = 10 # logs per epoch\n",
    "        \n",
    "    def log(self, data=None, **kwargs):\n",
    "        if data is None:\n",
    "            data = {}\n",
    "        data.update(kwargs)\n",
    "        # counting\n",
    "        for key in data:\n",
    "            if not key in self.counters:\n",
    "                self.counters[key] = 0\n",
    "            self.counters[key] += 1\n",
    "            \n",
    "        to_store = {}\n",
    "        epoch = self.counters['epoch']\n",
    "        for key in data:\n",
    "            count = self.counters[key]\n",
    "            period = count//(epoch+1)//self.frequency + 1\n",
    "            flag = count%period == 0\n",
    "            if flag:\n",
    "                if data[key] is None:\n",
    "                    to_store[key] = self.counters[key]\n",
    "                else:\n",
    "                    to_store[key] = data[key]\n",
    "                \n",
    "        if len(to_store) > 0:\n",
    "            self.logger.log(to_store)\n",
    "        \n",
    "    def flush(self):\n",
    "        self.logger.log(data={'epoch':self.counters['epoch']}, commit=True)\n",
    "        \n",
    "args = Config()\n",
    "#args.env=\"CartPole-v1\"\n",
    "#args.env=\"Hopper-v2\"\n",
    "args.env=\"Breakout-ram-v0\"\n",
    "args.algorithm=\"ppo\"\n",
    "args.name=f\"{args.env}_{args.algorithm}\"\n",
    "args.gpu=0\n",
    "args.seed=0\n",
    "args.hid=256\n",
    "args.l=6\n",
    "args.gamma=0.99\n",
    "args.cpu=4\n",
    "args.steps=5000\n",
    "args.epochs=500\n",
    "args.Q_lr=1e-5\n",
    "args.pi_lr=1e-5\n",
    "args.activation=torch.nn.ReLU"
   ]
  },
  {
   "cell_type": "markdown",
   "metadata": {},
   "source": [
    "# Run"
   ]
  },
  {
   "cell_type": "code",
   "execution_count": null,
   "metadata": {},
   "outputs": [
    {
     "data": {
      "text/html": [
       "Finishing last run (ID:1oohr2r4) before initializing another..."
      ],
      "text/plain": [
       "<IPython.core.display.HTML object>"
      ]
     },
     "metadata": {},
     "output_type": "display_data"
    },
    {
     "data": {
      "text/html": [
       "<br/>Waiting for W&B process to finish, PID 7159<br/>Program ended successfully."
      ],
      "text/plain": [
       "<IPython.core.display.HTML object>"
      ]
     },
     "metadata": {},
     "output_type": "display_data"
    },
    {
     "name": "stderr",
     "output_type": "stream",
     "text": [
      "\u001b[34m\u001b[1mwandb\u001b[0m: \u001b[32m\u001b[41mERROR\u001b[0m Control-C detected -- Run data was not synced\n"
     ]
    },
    {
     "data": {
      "text/html": [
       "...Successfully finished last run (ID:1oohr2r4). Initializing new run:<br/><br/>"
      ],
      "text/plain": [
       "<IPython.core.display.HTML object>"
      ]
     },
     "metadata": {},
     "output_type": "display_data"
    },
    {
     "name": "stderr",
     "output_type": "stream",
     "text": [
      "\u001b[34m\u001b[1mwandb\u001b[0m: wandb version 0.10.28 is available!  To upgrade, please run:\n",
      "\u001b[34m\u001b[1mwandb\u001b[0m:  $ pip install wandb --upgrade\n"
     ]
    },
    {
     "data": {
      "text/html": [
       "\n",
       "                Tracking run with wandb version 0.10.20<br/>\n",
       "                Syncing run <strong style=\"color:#cdcd00\">Breakout-ram-v0_ppo</strong> to <a href=\"https://wandb.ai\" target=\"_blank\">Weights & Biases</a> <a href=\"https://docs.wandb.com/integrations/jupyter.html\" target=\"_blank\">(Documentation)</a>.<br/>\n",
       "                Project page: <a href=\"https://wandb.ai/henry_b/RL\" target=\"_blank\">https://wandb.ai/henry_b/RL</a><br/>\n",
       "                Run page: <a href=\"https://wandb.ai/henry_b/RL/runs/36wffdmn\" target=\"_blank\">https://wandb.ai/henry_b/RL/runs/36wffdmn</a><br/>\n",
       "                Run data is saved locally in <code>/home/asus/spinningup/wandb/run-20210504_075023-36wffdmn</code><br/><br/>\n",
       "            "
      ],
      "text/plain": [
       "<IPython.core.display.HTML object>"
      ]
     },
     "metadata": {},
     "output_type": "display_data"
    },
    {
     "name": "stdout",
     "output_type": "stream",
     "text": [
      "Warning: trajectory cut off by epoch at 12 steps.\n",
      "Warning: trajectory cut off by epoch at 58 steps.\n",
      "Warning: trajectory cut off by epoch at 201 steps.\n",
      "Warning: trajectory cut off by epoch at 136 steps.\n",
      "Warning: trajectory cut off by epoch at 40 steps.\n",
      "Warning: trajectory cut off by epoch at 239 steps.\n",
      "Warning: trajectory cut off by epoch at 50 steps.\n",
      "Warning: trajectory cut off by epoch at 36 steps.\n",
      "Warning: trajectory cut off by epoch at 85 steps.\n",
      "Warning: trajectory cut off by epoch at 428 steps.\n",
      "Warning: trajectory cut off by epoch at 255 steps.\n",
      "Early stopping at step 4 due to reaching max kl.\n"
     ]
    }
   ],
   "source": [
    "#mpi_fork(args.cpu)  # run parallel code with mpi\n",
    "run=wandb.init(\n",
    "    project=\"RL\",\n",
    "    config=args,\n",
    "    name=args.name,\n",
    "    group=args.env,\n",
    ")\n",
    "logger = Logger(run)\n",
    "result = ppo(lambda : gym.make(args.env), actor_critic=core.MLPActorCritic,\n",
    "    ac_kwargs=dict(hidden_sizes=(args.hid,)*args.l, activation=args.activation), gamma=args.gamma, \n",
    "    seed=args.seed, steps_per_epoch=args.steps, epochs=args.epochs, logger=logger, vf_lr=args.Q_lr, pi_lr=args.pi_lr)\n",
    "run.finish()"
   ]
  },
  {
   "cell_type": "markdown",
   "metadata": {},
   "source": [
    "# Visualization"
   ]
  },
  {
   "cell_type": "code",
   "execution_count": null,
   "metadata": {},
   "outputs": [],
   "source": [
    "import gym\n",
    "from IPython import display\n",
    "import matplotlib\n",
    "import matplotlib.pyplot as plt\n",
    "%matplotlib inline\n",
    "\n",
    "env = gym.make('Breakout-ram-v0')\n",
    "env.reset()\n",
    "img = plt.imshow(env.render(mode='rgb_array')) # only call this once\n",
    "total = 0\n",
    "for _ in range(500):\n",
    "    img.set_data(env.render(mode='rgb_array')) # just update the data\n",
    "    display.display(plt.gcf())\n",
    "    display.clear_output(wait=True)\n",
    "    tmp = torch.tensor(state).float()\n",
    "    action = result.pi(tmp)[0].sample()\n",
    "   # action = env.action_space.sample()\n",
    "    state, reward, done, info  = env.step(action)\n",
    "    total += reward\n",
    "print(total)"
   ]
  },
  {
   "cell_type": "code",
   "execution_count": null,
   "metadata": {},
   "outputs": [],
   "source": [
    "1"
   ]
  },
  {
   "cell_type": "code",
   "execution_count": null,
   "metadata": {},
   "outputs": [],
   "source": [
    "run.log()"
   ]
  }
 ],
 "metadata": {
  "kernelspec": {
   "display_name": "Python 3",
   "language": "python",
   "name": "python3"
  },
  "language_info": {
   "codemirror_mode": {
    "name": "ipython",
    "version": 3
   },
   "file_extension": ".py",
   "mimetype": "text/x-python",
   "name": "python",
   "nbconvert_exporter": "python",
   "pygments_lexer": "ipython3",
   "version": "3.7.0"
  }
 },
 "nbformat": 4,
 "nbformat_minor": 4
}
