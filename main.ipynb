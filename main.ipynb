{
 "cells": [
  {
   "cell_type": "code",
   "execution_count": null,
   "metadata": {},
   "outputs": [],
   "source": [
    "%load_ext autoreload\n",
    "%autoreload 2"
   ]
  },
  {
   "cell_type": "code",
   "execution_count": null,
   "metadata": {},
   "outputs": [],
   "source": [
    "import numpy as np\n",
    "import torch\n",
    "from torch.optim import Adam\n",
    "import gym\n",
    "import time\n",
    "import wandb\n",
    "from spinup import models\n",
    "core = models"
   ]
  },
  {
   "cell_type": "code",
   "execution_count": null,
   "metadata": {},
   "outputs": [],
   "source": [
    "from spinup.utils.mpi_pytorch import setup_pytorch_for_mpi, sync_params, mpi_avg_grads\n",
    "from spinup.utils.mpi_tools import mpi_fork, mpi_avg, proc_id, mpi_statistics_scalar, num_procs\n",
    "from spinup.algos.ppo.ppo import ppo"
   ]
  },
  {
   "cell_type": "code",
   "execution_count": null,
   "metadata": {},
   "outputs": [],
   "source": [
    "class Config(object):\n",
    "    def __init__(self):\n",
    "        return None\n",
    "    \n",
    "class Logger(object):\n",
    "    \"\"\"\n",
    "    uses kwargs instead of dict for convenience\n",
    "    pass an int: logging per epoch\n",
    "    pass nothing: logginer per run\n",
    "    pass a name: logging per step (model update step, env interaction step...)\n",
    "    \"\"\"\n",
    "    def __init__(self, logger):\n",
    "        self.logger = logger\n",
    "        self.epoch = 0\n",
    "        self.counters = {}\n",
    "        \n",
    "    def log(self, data={}, step=None, **kwargs):\n",
    "        if isinstance(step, int):\n",
    "            self.epoch = step\n",
    "            data['epoch'] = step\n",
    "        elif isinstance(step, str):\n",
    "            if not step in self.counters:\n",
    "                self.counters[step] = 0\n",
    "            data[step] = self.counters[step]\n",
    "            self.counters[step] += 1\n",
    "        for key in kwargs:\n",
    "            data[key] = kwargs[key]\n",
    "        self.logger.log(data=data)\n",
    "        \n",
    "args = Config()\n",
    "#args.env=\"CartPole-v1\"\n",
    "#args.env=\"Hopper-v2\"\n",
    "args.env=\"Breakout-ram-v0\"\n",
    "args.algorithm=\"ppo\"\n",
    "args.name=f\"{args.env}_{args.algorithm}\"\n",
    "args.gpu=0\n",
    "args.seed=0\n",
    "args.hid=256\n",
    "args.l=6\n",
    "args.gamma=0.99\n",
    "args.cpu=4\n",
    "args.steps=5000\n",
    "args.epochs=500\n",
    "args.activation=torch.nn.ReLU"
   ]
  },
  {
   "cell_type": "markdown",
   "metadata": {},
   "source": [
    "# Run"
   ]
  },
  {
   "cell_type": "code",
   "execution_count": null,
   "metadata": {},
   "outputs": [],
   "source": [
    "#mpi_fork(args.cpu)  # run parallel code with mpi\n",
    "run=wandb.init(\n",
    "    project=\"RL\",\n",
    "    config=args,\n",
    "    name=args.name,\n",
    "    group=args.env,\n",
    ")\n",
    "logger = Logger(run)\n",
    "result = ppo(lambda : gym.make(args.env), actor_critic=core.MLPActorCritic,\n",
    "    ac_kwargs=dict(hidden_sizes=(args.hid,)*args.l, activation=args.activation), gamma=args.gamma, \n",
    "    seed=args.seed, steps_per_epoch=args.steps, epochs=args.epochs, logger=logger)\n",
    "run.finish()"
   ]
  },
  {
   "cell_type": "markdown",
   "metadata": {},
   "source": [
    "# Visualization"
   ]
  },
  {
   "cell_type": "code",
   "execution_count": null,
   "metadata": {},
   "outputs": [],
   "source": [
    "import gym\n",
    "from IPython import display\n",
    "import matplotlib\n",
    "import matplotlib.pyplot as plt\n",
    "%matplotlib inline\n",
    "\n",
    "env = gym.make('Breakout-ram-v0')\n",
    "env.reset()\n",
    "img = plt.imshow(env.render(mode='rgb_array')) # only call this once\n",
    "total = 0\n",
    "for _ in range(500):\n",
    "    img.set_data(env.render(mode='rgb_array')) # just update the data\n",
    "    display.display(plt.gcf())\n",
    "    display.clear_output(wait=True)\n",
    "    tmp = torch.tensor(state).float()\n",
    "    action = result.pi(tmp)[0].sample()\n",
    "   # action = env.action_space.sample()\n",
    "    state, reward, done, info  = env.step(action)\n",
    "    total += reward\n",
    "print(total)"
   ]
  },
  {
   "cell_type": "code",
   "execution_count": null,
   "metadata": {},
   "outputs": [],
   "source": []
  }
 ],
 "metadata": {
  "kernelspec": {
   "display_name": "Python 3",
   "language": "python",
   "name": "python3"
  },
  "language_info": {
   "codemirror_mode": {
    "name": "ipython",
    "version": 3
   },
   "file_extension": ".py",
   "mimetype": "text/x-python",
   "name": "python",
   "nbconvert_exporter": "python",
   "pygments_lexer": "ipython3",
   "version": "3.7.0"
  }
 },
 "nbformat": 4,
 "nbformat_minor": 4
}
