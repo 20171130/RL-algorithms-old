{
 "cells": [
  {
   "cell_type": "code",
   "execution_count": null,
   "metadata": {},
   "outputs": [],
   "source": [
    "%load_ext autoreload\n",
    "%autoreload 2"
   ]
  },
  {
   "cell_type": "code",
   "execution_count": null,
   "metadata": {},
   "outputs": [],
   "source": [
    "import numpy as np\n",
    "import pdb\n",
    "import torch\n",
    "from torch.optim import Adam\n",
    "import gym\n",
    "import time\n",
    "import wandb\n",
    "from spinup import models\n",
    "core = models"
   ]
  },
  {
   "cell_type": "code",
   "execution_count": null,
   "metadata": {},
   "outputs": [],
   "source": [
    "from spinup.utils.mpi_pytorch import setup_pytorch_for_mpi, sync_params, mpi_avg_grads\n",
    "from spinup.utils.mpi_tools import mpi_fork, mpi_avg, proc_id, mpi_statistics_scalar, num_procs\n",
    "from spinup.algos.ppo.ppo import ppo\n",
    "from spinup.algos.sac.sac import sac"
   ]
  },
  {
   "cell_type": "code",
   "execution_count": null,
   "metadata": {},
   "outputs": [],
   "source": [
    "class Config(object):\n",
    "    def __init__(self):\n",
    "        return None\n",
    "    def toDict(self):\n",
    "        pr = {}\n",
    "        for name in dir(self):\n",
    "            value = getattr(self, name)\n",
    "            if not name.startswith('__') and not callable(value) and not name.endswith('_'):\n",
    "                pr[name] = value\n",
    "        return pr\n",
    "    \n",
    "class TabularLogger(object):\n",
    "    \"\"\"\n",
    "    A text interface logger, outputs mean and std several times per epoch\n",
    "    \"\"\"\n",
    "    def __init__(self):\n",
    "        self.buffer = {}\n",
    "        \n",
    "    def log(dic, commit=False):\n",
    "        if commit:\n",
    "            print\n",
    "        \n",
    "class Logger(object):\n",
    "    \"\"\"\n",
    "    A logger wrapper for visualized loggers, such as tb or wandb\n",
    "    Automatically counts steps, epoch, etc. and sets logging interval\n",
    "    to prevent the log becoming too big\n",
    "    uses kwargs instead of dict for convenience\n",
    "    all None valued keys are counters\n",
    "    \"\"\"\n",
    "    def __init__(self, logger=logger):\n",
    "        self.counters = {'epoch':0}\n",
    "        self.frequency = 10 # logs per epoch\n",
    "        \n",
    "    def log(self, data=None, **kwargs):\n",
    "        if data is None:\n",
    "            data = {}\n",
    "        data.update(kwargs)\n",
    "        # counting\n",
    "        for key in data:\n",
    "            if not key in self.counters:\n",
    "                self.counters[key] = 0\n",
    "            self.counters[key] += 1\n",
    "            \n",
    "        to_store = {}\n",
    "        epoch = self.counters['epoch']\n",
    "        for key in data:\n",
    "            count = self.counters[key]\n",
    "            period = count//(epoch+1)//self.frequency + 1\n",
    "            flag = count%period == 0\n",
    "            if flag:\n",
    "                if data[key] is None:\n",
    "                    to_store[key] = self.counters[key]\n",
    "                else:\n",
    "                    to_store[key] = data[key]\n",
    "                \n",
    "        if len(to_store) > 0:\n",
    "            self.logger.log(to_store)\n",
    "        \n",
    "    def flush(self):\n",
    "        self.logger.log(data={'epoch':self.counters['epoch']}, commit=True)\n",
    "        \n",
    "args = Config()\n",
    "#args.env=\"CartPole-v1\"\n",
    "#args.env=\"Hopper-v2\"\n",
    "args.env=\"Breakout-ram-v0\"\n",
    "args.algorithm=\"sac\"\n",
    "args.name=f\"{args.env}_{args.algorithm}\"\n",
    "args.gpu=0\n",
    "args.seed=0\n",
    "args.hid=256\n",
    "args.l=6\n",
    "args.gamma=0.99\n",
    "args.cpu=4\n",
    "args.steps_per_epoch=5000\n",
    "args.epochs=500\n",
    "args.v_lr=1e-4\n",
    "args.pi_lr=1e-5\n",
    "args.activation=torch.nn.ReLU"
   ]
  },
  {
   "cell_type": "markdown",
   "metadata": {},
   "source": [
    "# Run"
   ]
  },
  {
   "cell_type": "markdown",
   "metadata": {},
   "source": [
    "## SAC"
   ]
  },
  {
   "cell_type": "code",
   "execution_count": null,
   "metadata": {},
   "outputs": [],
   "source": [
    "run=wandb.init(\n",
    "    project=\"RL\",\n",
    "    config=args,\n",
    "    name=args.name,\n",
    "    group=args.env,\n",
    ")\n",
    "logger = Logger(run)\n",
    "result =sac(lambda : gym.make(args.env), actor_critic=core.MLPDQActorCritic,\n",
    "    ac_kwargs=dict(hidden_sizes=[args.hid]*args.l), logger=logger, \n",
    "           steps_per_epoch=args.steps_per_epoch, epochs=args.epochs)\n",
    "run.finish()"
   ]
  },
  {
   "cell_type": "markdown",
   "metadata": {},
   "source": [
    "## PPO"
   ]
  },
  {
   "cell_type": "code",
   "execution_count": null,
   "metadata": {},
   "outputs": [],
   "source": [
    "#mpi_fork(args.cpu)  # run parallel code with mpi\n",
    "run=wandb.init(\n",
    "    project=\"RL\",\n",
    "    config=args,\n",
    "    name=args.name,\n",
    "    group=args.env,\n",
    ")\n",
    "logger = Logger(run)\n",
    "result = ppo(lambda : gym.make(args.env), actor_critic=core.MLPVActorCritic,\n",
    "    ac_kwargs=dict(hidden_sizes=(args.hid,)*args.l, logger=logger,  gamma=args.gamma, \n",
    "        seed=args.seed, steps_per_epoch=args.steps_per_epoch, epochs=args.epochs)\n",
    "run.finish()"
   ]
  },
  {
   "cell_type": "markdown",
   "metadata": {},
   "source": [
    "# Visualization"
   ]
  },
  {
   "cell_type": "code",
   "execution_count": null,
   "metadata": {},
   "outputs": [],
   "source": [
    "import gym\n",
    "from IPython import display\n",
    "import matplotlib\n",
    "import matplotlib.pyplot as plt\n",
    "%matplotlib inline\n",
    "\n",
    "env = gym.make('Breakout-ram-v0')\n",
    "state = env.reset()\n",
    "img = plt.imshow(env.render(mode='rgb_array')) # only call this once\n",
    "total = 0\n",
    "for _ in range(2000):\n",
    "    img.set_data(env.render(mode='rgb_array')) # just update the data\n",
    "    display.display(plt.gcf())\n",
    "    display.clear_output(wait=True)\n",
    "    tmp = torch.tensor(state).float()\n",
    "    action = result.pi(tmp)[0].sample()\n",
    "   # action = env.action_space.sample()\n",
    "    state, reward, done, info  = env.step(action)\n",
    "    total += reward\n",
    "print(total)"
   ]
  },
  {
   "cell_type": "code",
   "execution_count": null,
   "metadata": {},
   "outputs": [],
   "source": [
    "x = env.action_space"
   ]
  },
  {
   "cell_type": "code",
   "execution_count": null,
   "metadata": {},
   "outputs": [],
   "source": [
    "env = gym.make('Breakout-ram-v0')"
   ]
  },
  {
   "cell_type": "code",
   "execution_count": null,
   "metadata": {},
   "outputs": [],
   "source": [
    "env.observation_space.shape"
   ]
  },
  {
   "cell_type": "code",
   "execution_count": null,
   "metadata": {},
   "outputs": [],
   "source": [
    "env.action_space.shape"
   ]
  },
  {
   "cell_type": "code",
   "execution_count": null,
   "metadata": {},
   "outputs": [],
   "source": [
    "env.reset()"
   ]
  },
  {
   "cell_type": "code",
   "execution_count": null,
   "metadata": {},
   "outputs": [],
   "source": []
  }
 ],
 "metadata": {
  "kernelspec": {
   "display_name": "Python 3",
   "language": "python",
   "name": "python3"
  },
  "language_info": {
   "codemirror_mode": {
    "name": "ipython",
    "version": 3
   },
   "file_extension": ".py",
   "mimetype": "text/x-python",
   "name": "python",
   "nbconvert_exporter": "python",
   "pygments_lexer": "ipython3",
   "version": "3.7.0"
  }
 },
 "nbformat": 4,
 "nbformat_minor": 4
}
